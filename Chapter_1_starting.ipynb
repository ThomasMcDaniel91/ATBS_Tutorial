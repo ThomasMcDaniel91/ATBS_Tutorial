{
  "nbformat": 4,
  "nbformat_minor": 0,
  "metadata": {
    "colab": {
      "name": "Untitled8.ipynb",
      "provenance": [],
      "authorship_tag": "ABX9TyNJmP3g+IrBmYSP/3FD9aBy",
      "include_colab_link": true
    },
    "kernelspec": {
      "name": "python3",
      "display_name": "Python 3"
    }
  },
  "cells": [
    {
      "cell_type": "markdown",
      "metadata": {
        "id": "view-in-github",
        "colab_type": "text"
      },
      "source": [
        "<a href=\"https://colab.research.google.com/github/ThomasMcDaniel91/ATBS_Tutorial/blob/main/Chapter_1_starting.ipynb\" target=\"_parent\"><img src=\"https://colab.research.google.com/assets/colab-badge.svg\" alt=\"Open In Colab\"/></a>"
      ]
    },
    {
      "cell_type": "markdown",
      "metadata": {
        "id": "J8xOluPv87B7"
      },
      "source": [
        "This is a practice notebook for anything I find interesting in my day's lesson of Automate the Boring Stuff, found here https://nostarch.com/automatestuff2"
      ]
    },
    {
      "cell_type": "markdown",
      "metadata": {
        "id": "kG_4Y0nU-P0b"
      },
      "source": [
        "Chapter 1 questions:\n",
        "\n",
        "1. Which of the following are operators and which are values?\n",
        "(*) (operator)\n",
        "'hello' (value)\n",
        "-88.8 (value)\n",
        "- (operator)\n",
        "/ (operator)\n",
        "+ (operator)\n",
        "5 (value)\n",
        "\n",
        "2. Which of the following is a variable and which is a string?\n",
        "spam = variable\n",
        "'spam' = string\n",
        "\n",
        "3. Name 3 data types.\n",
        "  String, Float, Integer\n",
        "\n",
        "4. What is an expression made up of? What do all expressions do?\n",
        "  An expression is made up of operators and variables, they perform the operations on the values to a single value.\n",
        "\n",
        "5. This chapter introduced assignment statements like spam = 10. What is the difference between an expression and a statement?\n",
        "\n",
        "an expression ends with a single value and a statement does not.\n",
        "\n",
        "6. What does the variable bacon contain after the following code runs?\n",
        "bacon = 20\n",
        "bacon + 1\n",
        "\n",
        "bacon is still 20 because the bacon + 1 is an expression not a statement\n",
        "\n",
        "7. What should the following two expressions evaluate to?\n",
        "\n",
        "'spam' + 'spamspam'\n",
        "'spam' * 3\n",
        "\n",
        "Both of these expressions evaluate to 'spamspamspam'.\n",
        "\n",
        "8. Why is eggs a valid variable name while 100 is invalid?\n",
        "\n",
        "variable names cannot be a number.\n",
        "\n",
        "9. What 3 functions can be used to get the integer, floating point number or string version of a value?\n",
        "\n",
        "int(), float(), str()\n",
        "\n",
        "10. Why does this expression cause an error? How can fix it?\n",
        "\n",
        "Broken:\n",
        "\n",
        "'I have eaten ' + 99 + ' burritos.'\n",
        "\n",
        "To fix: add str() to the integer 99.\n",
        "\n",
        "'I have eaten ' + str(99) + ' burritos.'"
      ]
    },
    {
      "cell_type": "markdown",
      "metadata": {
        "id": "tHytrFVJCnEW"
      },
      "source": [
        "Chapter 2: Flow Control\n",
        "\n",
        "Notes:\n",
        "\n",
        "When used in conditions, 0, 0.0 and '' are all considered False.\n",
        "\n",
        "for loops and the range() functions are both exclusive of the last number\n",
        "ex: for i in range(0, 16):\n",
        "        print(i)\n",
        "will print out numbers 0-15, not including the 2nd number in the range function."
      ]
    },
    {
      "cell_type": "code",
      "metadata": {
        "id": "6ts9GC4H7BF-"
      },
      "source": [
        "# Annoying name loop\n",
        "# This is a good spot to remind everyone of ctrl C to break out of infinite loops\n",
        "name = ''\n",
        "while name != 'your name':\n",
        "  print('Please type your name')\n",
        "  name = input()\n",
        "print('Thank you')"
      ],
      "execution_count": null,
      "outputs": []
    },
    {
      "cell_type": "code",
      "metadata": {
        "id": "B7_ZMG9XEG-5"
      },
      "source": [
        "# Alternate implementation of annoying name loop from book\n",
        "\n",
        "while True:\n",
        "  print('Please type your name')\n",
        "  name = input()\n",
        "  if name == 'your name':\n",
        "    break\n",
        "print('Thank you')"
      ],
      "execution_count": null,
      "outputs": []
    },
    {
      "cell_type": "code",
      "metadata": {
        "id": "1c0i2L6YFjmg",
        "outputId": "bf51f0e4-e7c2-48bd-cfe5-506f85e795e2",
        "colab": {
          "base_uri": "https://localhost:8080/",
          "height": 34
        }
      },
      "source": [
        "# Falsey values in conditionals\n",
        "name = ''\n",
        "if not name:\n",
        "  print('Name is empty, therefore False')"
      ],
      "execution_count": 4,
      "outputs": [
        {
          "output_type": "stream",
          "text": [
            "Name is empty, therefore False\n"
          ],
          "name": "stdout"
        }
      ]
    },
    {
      "cell_type": "code",
      "metadata": {
        "id": "6fEZNa8HGtF3",
        "outputId": "bbff5d30-266b-428b-e46c-d5750e9490a2",
        "colab": {
          "base_uri": "https://localhost:8080/",
          "height": 238
        }
      },
      "source": [
        "# for loop exclusion example\n",
        "for i in range(0, 6):\n",
        "  print(i)\n",
        "\n",
        "# range() also has a third parameter called step, this is default 1 but can be\n",
        "# changed to whatever number you choose\n",
        "print()\n",
        "for i in range(0, 11, 2):\n",
        "  print(i)"
      ],
      "execution_count": 7,
      "outputs": [
        {
          "output_type": "stream",
          "text": [
            "0\n",
            "1\n",
            "2\n",
            "3\n",
            "4\n",
            "5\n",
            "\n",
            "0\n",
            "2\n",
            "4\n",
            "6\n",
            "8\n",
            "10\n"
          ],
          "name": "stdout"
        }
      ]
    },
    {
      "cell_type": "markdown",
      "metadata": {
        "id": "L4KrkwfcHiMY"
      },
      "source": [
        "Chapter 2 practice questions:\n",
        "\n",
        "1. What are the two values of the Boolean data type? How do you write them?\n",
        "\n",
        "True\n",
        "False\n",
        "\n",
        "They have to be capitalized\n",
        "\n",
        "2. What are the 3 Boolean operators?\n",
        "\n",
        "and, or, not\n",
        "\n",
        "3. Write out the truth tables of each Boolean operator.\n",
        "\n",
        "AND table:\n",
        "\n",
        "True and True: True\n",
        "\n",
        "True and False: False\n",
        "\n",
        "False and True: False\n",
        "\n",
        "False and False: False\n",
        "\n",
        "OR table:\n",
        "\n",
        "True or False: True\n",
        "\n",
        "False or False: False\n",
        "\n",
        "Not table:\n",
        "\n",
        "not True: False\n",
        "\n",
        "not not True: True\n",
        "\n",
        "4. What do the following expressions evaluate to?\n",
        "\n",
        "( 5 > 4) and (3 == 5): False, (true/false)\n",
        "\n",
        "not (5 > 4): False, (not true)\n",
        "\n",
        "(5 > 4 ) or (3 == 5): True, (true or false)\n",
        "\n",
        "not ((5 > 4) or (3 == 5)): False, (not(true or false: True))\n",
        "\n",
        "(True and True) and (True == False): False, (True/False)\n",
        "\n",
        "5. What are the 6 comparison operators?\n",
        "\n",
        ">, <, ==, !=, >=, <=\n",
        "\n",
        "6. What is the difference between the equal to operator and the assignment operator?\n",
        "\n",
        "The equal to operator returns a Boolean value based on the values and comparisons, the assignment operator assigns a variable to a value.\n",
        "\n",
        "7. Explain what a condition is and where you would use one?\n",
        "\n",
        "A condition is an expression in a flow control statement that evaluates to a Boolean value. You could use this in an example such as if it were forecast to rain that day, you would grab your umbrella, otherwise don't since you won't need it.\n",
        "\n",
        "8. Identify the blocks in this code:\n",
        "\n",
        "spam = 0\n",
        "if spam == 10:\n",
        "  print('eggs')\n",
        "  if spam > 5:\n",
        "    print('bacon')\n",
        "  else:\n",
        "    print('ham')\n",
        "  print('spam')\n",
        "print('spam')\n",
        "\n",
        "3 blocks are spam = 0\n",
        "\n",
        "everything in the if loop down to print('spam')\n",
        "\n",
        "print('spam') by itself outside the if loop.\n",
        "\n",
        "9. Write code that prints Hello if 1 is stored in the spam, prints Howdy if 2 is\n",
        "stored in spam, and prints Greetings! if anything else is stored in spam\n",
        "\n",
        "spam = 0\n",
        "\n",
        "if spam == 1:\n",
        "  print('Hello')\n",
        "if spam == 2:\n",
        "  print('Howdy')\n",
        "else:\n",
        "  print('Greetings!')\n",
        "\n",
        "10. What can you press if your program is stuck in an infinite loop?\n",
        "\n",
        "ctrl c to break a loop\n",
        "\n",
        "11. What is the difference between break and continue?\n",
        "\n",
        "break will exit the loop when it is ran and continue will move on to the next item in the loop without exiting.\n",
        "\n",
        "12. What is the difference between range(10), range(0, 10) and range(0, 10, 1) in a for loop? These functions all do the same thing, 0 is the default start value and 1 is the default step value.\n",
        "\n",
        "13. Write a short program that prints the numbers 1 to 10 using a for loop. Then write an equivalent program that prints the numbers 1 to 10 using a while loop."
      ]
    },
    {
      "cell_type": "code",
      "metadata": {
        "id": "5oF1VT4ZOmHL"
      },
      "source": [
        "# For loop for numbers\n",
        "for i in range(11):\n",
        "  print(i)\n",
        "print()\n",
        "# while loop for numbers:\n",
        "i = 0\n",
        "while i < 11:\n",
        "  print(i)\n",
        "  i += 1"
      ],
      "execution_count": null,
      "outputs": []
    },
    {
      "cell_type": "markdown",
      "metadata": {
        "id": "qSzjBLdvO_wG"
      },
      "source": [
        "14. If you had a function named bacon() inside a module named spam, how would you call it after importing spam?\n",
        "\n",
        "if you imported spam like this:\n",
        "\n",
        "import spam\n",
        "\n",
        "you would call bacon like this:\n",
        "spam.bacon()\n",
        "\n",
        "if you only wanted bacon from spam you could do this:\n",
        "from spam import bacon\n",
        "\n",
        "then you would be able to use the function like this:\n",
        "\n",
        "bacon()"
      ]
    }
  ]
}