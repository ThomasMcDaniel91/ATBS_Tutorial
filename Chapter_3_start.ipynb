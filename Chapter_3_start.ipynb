{
  "nbformat": 4,
  "nbformat_minor": 0,
  "metadata": {
    "colab": {
      "name": "Chapter_3_start.ipynb",
      "provenance": [],
      "authorship_tag": "ABX9TyO/VRGDc22V7yyLxZL2fL7Q",
      "include_colab_link": true
    },
    "kernelspec": {
      "name": "python3",
      "display_name": "Python 3"
    }
  },
  "cells": [
    {
      "cell_type": "markdown",
      "metadata": {
        "id": "view-in-github",
        "colab_type": "text"
      },
      "source": [
        "<a href=\"https://colab.research.google.com/github/ThomasMcDaniel91/ATBS_Tutorial/blob/main/Chapter_3_start.ipynb\" target=\"_parent\"><img src=\"https://colab.research.google.com/assets/colab-badge.svg\" alt=\"Open In Colab\"/></a>"
      ]
    },
    {
      "cell_type": "markdown",
      "metadata": {
        "id": "3LcrIeultW4m"
      },
      "source": [
        "Starting from chapter 3 for today's session.\n",
        "\n",
        "Chapter 3: Functions\n",
        "\n",
        "#Notes for Chapter 3\n",
        "\n",
        "local variables in a function are destroyed after the function returns.\n",
        "In this case, the local variable in bacon(), eggs is destroyed after the bacon\n",
        "function returns none and eggs is still 99 in the local scope of spam()"
      ]
    },
    {
      "cell_type": "code",
      "metadata": {
        "id": "Ry6pJCYctI66",
        "outputId": "44c3b84e-c4d9-4ade-e601-6c7c38ed3deb",
        "colab": {
          "base_uri": "https://localhost:8080/"
        }
      },
      "source": [
        "# coding example of local scopes\n",
        "def spam():\n",
        "  eggs = 99\n",
        "  bacon()\n",
        "  print(eggs)\n",
        "\n",
        "def bacon():\n",
        "  ham = 101\n",
        "  eggs = 0\n",
        "spam()"
      ],
      "execution_count": 1,
      "outputs": [
        {
          "output_type": "stream",
          "text": [
            "99\n"
          ],
          "name": "stdout"
        }
      ]
    },
    {
      "cell_type": "markdown",
      "metadata": {
        "id": "er_Us-rbxc7x"
      },
      "source": [
        "#Exception handling\n",
        "\n",
        "By default, an error will crash the program. This can be solved by using try and except statement to continuing to run after attempting to solve the error.\n"
      ]
    },
    {
      "cell_type": "code",
      "metadata": {
        "id": "Jx7G82V_xcV6",
        "outputId": "ab3b426a-c663-4d9d-92bc-6b4d47ff24cf",
        "colab": {
          "base_uri": "https://localhost:8080/"
        }
      },
      "source": [
        "# Try and except example from book\n",
        "def spam(divideby):\n",
        "  return 42 / divideby\n",
        "print(spam(2))"
      ],
      "execution_count": 2,
      "outputs": [
        {
          "output_type": "stream",
          "text": [
            "21.0\n"
          ],
          "name": "stdout"
        }
      ]
    },
    {
      "cell_type": "code",
      "metadata": {
        "id": "f8NtlaVr4dLn",
        "outputId": "81744361-9ac2-4950-d9e6-f8025b5ca257",
        "colab": {
          "base_uri": "https://localhost:8080/",
          "height": 265
        }
      },
      "source": [
        "# The except statement will contain the statement except followed by the name of\n",
        "# the error. In this case, ZeroDivisionError\n",
        "print(spam(0))"
      ],
      "execution_count": 3,
      "outputs": [
        {
          "output_type": "error",
          "ename": "ZeroDivisionError",
          "evalue": "ignored",
          "traceback": [
            "\u001b[0;31m---------------------------------------------------------------------------\u001b[0m",
            "\u001b[0;31mZeroDivisionError\u001b[0m                         Traceback (most recent call last)",
            "\u001b[0;32m<ipython-input-3-737e559b2995>\u001b[0m in \u001b[0;36m<module>\u001b[0;34m()\u001b[0m\n\u001b[0;32m----> 1\u001b[0;31m \u001b[0mprint\u001b[0m\u001b[0;34m(\u001b[0m\u001b[0mspam\u001b[0m\u001b[0;34m(\u001b[0m\u001b[0;36m0\u001b[0m\u001b[0;34m)\u001b[0m\u001b[0;34m)\u001b[0m\u001b[0;34m\u001b[0m\u001b[0;34m\u001b[0m\u001b[0m\n\u001b[0m",
            "\u001b[0;32m<ipython-input-2-7bbdf0b45f45>\u001b[0m in \u001b[0;36mspam\u001b[0;34m(divideby)\u001b[0m\n\u001b[1;32m      1\u001b[0m \u001b[0;31m# Try and except example from book\u001b[0m\u001b[0;34m\u001b[0m\u001b[0;34m\u001b[0m\u001b[0;34m\u001b[0m\u001b[0m\n\u001b[1;32m      2\u001b[0m \u001b[0;32mdef\u001b[0m \u001b[0mspam\u001b[0m\u001b[0;34m(\u001b[0m\u001b[0mdivideby\u001b[0m\u001b[0;34m)\u001b[0m\u001b[0;34m:\u001b[0m\u001b[0;34m\u001b[0m\u001b[0;34m\u001b[0m\u001b[0m\n\u001b[0;32m----> 3\u001b[0;31m   \u001b[0;32mreturn\u001b[0m \u001b[0;36m42\u001b[0m \u001b[0;34m/\u001b[0m \u001b[0mdivideby\u001b[0m\u001b[0;34m\u001b[0m\u001b[0;34m\u001b[0m\u001b[0m\n\u001b[0m\u001b[1;32m      4\u001b[0m \u001b[0mprint\u001b[0m\u001b[0;34m(\u001b[0m\u001b[0mspam\u001b[0m\u001b[0;34m(\u001b[0m\u001b[0;36m2\u001b[0m\u001b[0;34m)\u001b[0m\u001b[0;34m)\u001b[0m\u001b[0;34m\u001b[0m\u001b[0;34m\u001b[0m\u001b[0m\n",
            "\u001b[0;31mZeroDivisionError\u001b[0m: division by zero"
          ]
        }
      ]
    },
    {
      "cell_type": "code",
      "metadata": {
        "id": "S3lAwRnJ40HC",
        "outputId": "2ef0af9c-02b1-4fd3-b043-3f329c3dee20",
        "colab": {
          "base_uri": "https://localhost:8080/"
        }
      },
      "source": [
        "# Same function as above but with try/except\n",
        "def spam(divideby):\n",
        "  try:\n",
        "    return 42/divideby\n",
        "  except ZeroDivisionError:\n",
        "    return \"Sorry you can't divide by 0.\"\n",
        "print(spam(0))"
      ],
      "execution_count": 6,
      "outputs": [
        {
          "output_type": "stream",
          "text": [
            "Sorry you can't divide by 0.\n"
          ],
          "name": "stdout"
        }
      ]
    },
    {
      "cell_type": "code",
      "metadata": {
        "id": "IYHLyXJb5jpx",
        "outputId": "6d216bc1-e8c6-457f-cd2e-6e62a08a9d8c",
        "colab": {
          "base_uri": "https://localhost:8080/",
          "height": 120
        }
      },
      "source": [
        "# Number guessing game from chapter 3 with some experimentation\n",
        "import random\n",
        "def randgame():\n",
        "    guesses_taken = 1\n",
        "    number = random.randint(1,5)\n",
        "    guess = input('Try to find the number between 1 and 5! ')\n",
        "    try:\n",
        "      guess = int(guess)\n",
        "    except ValueError:\n",
        "      print('Sorry that is not a number. Please enter a number. ')\n",
        "      guess = input('Please enter a number: ')\n",
        "    if int(guess) == number:\n",
        "      return 'Wow first try! Great job!'\n",
        "    else:\n",
        "      print('Sorry that was not correct. You can try again though!')\n",
        "      while int(guess) != number:\n",
        "        guess = input('What number would you like to guess next? ')\n",
        "        guesses_taken += 1\n",
        "        if int(guess) > number:\n",
        "          print('Sorry that number is too high.')\n",
        "          continue\n",
        "        elif int(guess) < number:\n",
        "          print('Sorry that number is too low.')\n",
        "          continue\n",
        "        else:\n",
        "          break\n",
        "      return f'Hey you got it! It took you a total of {guesses_taken} tries!'\n",
        "randgame()"
      ],
      "execution_count": 30,
      "outputs": [
        {
          "output_type": "stream",
          "text": [
            "Try to find the number between 1 and 5! 4\n",
            "Sorry that was not correct. You can try again though!\n",
            "What number would you like to guess next? 3\n",
            "Sorry that number is too low.\n",
            "What number would you like to guess next? 5\n"
          ],
          "name": "stdout"
        },
        {
          "output_type": "execute_result",
          "data": {
            "application/vnd.google.colaboratory.intrinsic+json": {
              "type": "string"
            },
            "text/plain": [
              "'Hey you got it! It took you a total of 3 tries!'"
            ]
          },
          "metadata": {
            "tags": []
          },
          "execution_count": 30
        }
      ]
    },
    {
      "cell_type": "markdown",
      "metadata": {
        "id": "jkeACB_KCk06"
      },
      "source": [
        "#Chapter 3 Practice Questions\n",
        "\n",
        "1. Why are functions advantageous to have in your programs?\n",
        "\n",
        "Functions are an efficient way to use the same code repeatedly in a program without having to repeat the entire code. After you create a function, you only need to call it again to utilize all the underlying code in the function. You can also have functions in a seperate file and import them to keep your main file cleaner without the setup for functions cluttering up the top of the file.\n",
        "\n",
        "2. When does the code in a function execute? When the function is defined or when the function is called?\n",
        "\n",
        "The code in a function is only executed when it is called. Simply defining a function does not run anything.\n",
        "\n",
        "3. What statement creates a function? \n",
        "\n",
        "The def statement\n",
        "\n",
        "4. What is the difference between a function and a function call?\n",
        "\n",
        "A function is a block of code that can be reused as desired, a function call is the actual utilization of the function.\n",
        "\n",
        "5. How many global scopes are there in a python program? How many local scopes?\n",
        "\n",
        "There is only one global scope that is created when the program begins, there are as many local scopes as the code creates by using functions.\n",
        "\n",
        "6. What happens to variables in a local scope when the function call returns?\n",
        "\n",
        "All variables in the specific local scope are destroyed when a function call returns\n",
        "\n",
        "7. What is a return value? Can a return value be a part of an expression?\n",
        "\n",
        "A return value is what a function returns at the end of it's execution. A return value can be a part of an expression.\n",
        "\n",
        "8. If a function does not have a return statement, what is the return value of a call to that function? \n",
        "\n",
        "If a function does not have a return statement, it returns a value of None.\n",
        "\n",
        "9. How can you force a variable in a function to refer to the global variable?\n",
        "\n",
        "Inside the function, you refer to the variable with the word global before it."
      ]
    },
    {
      "cell_type": "code",
      "metadata": {
        "id": "v-4U82HKCkNT",
        "outputId": "af1b47ce-63fd-46c9-e5f1-66fc1e9ae5c8",
        "colab": {
          "base_uri": "https://localhost:8080/"
        }
      },
      "source": [
        "#global inside a function example.\n",
        "\n",
        "x = 10\n",
        "\n",
        "def change():\n",
        "  global x\n",
        "  x = 20\n",
        "change()\n",
        "print(x)"
      ],
      "execution_count": 40,
      "outputs": [
        {
          "output_type": "stream",
          "text": [
            "20\n"
          ],
          "name": "stdout"
        }
      ]
    },
    {
      "cell_type": "markdown",
      "metadata": {
        "id": "O6oLGxSARgYo"
      },
      "source": [
        "10. What is the data type of None?\n",
        "\n",
        "None is it's own type of NoneType"
      ]
    },
    {
      "cell_type": "code",
      "metadata": {
        "id": "U4CIB71CRlCS",
        "outputId": "347b58a1-802b-4c0c-d333-002a3382ed99",
        "colab": {
          "base_uri": "https://localhost:8080/"
        }
      },
      "source": [
        "type(None)"
      ],
      "execution_count": 41,
      "outputs": [
        {
          "output_type": "execute_result",
          "data": {
            "text/plain": [
              "NoneType"
            ]
          },
          "metadata": {
            "tags": []
          },
          "execution_count": 41
        }
      ]
    },
    {
      "cell_type": "markdown",
      "metadata": {
        "id": "-zAwdMnLRtUo"
      },
      "source": [
        "11. What does the import areallyourpetsnamederic statement do?\n",
        "\n",
        "imports a module named areallyourpetsnamederic to your program for use\n",
        "\n",
        "12. If you had a function named bacon() in a module named spam, how would you call it after import spam?\n",
        "\n",
        "you would call it by using spam.bacon(), this could also be changed if you only needed that specific function from that module by importing it directly by using\n",
        "from spam import bacon and then you could call it just by using bacon()\n",
        "\n",
        "13. How can you prevent a program from crashing when it gets an error?\n",
        "\n",
        "Usage of try and except statements will allow a program to run into an error and continue running.\n",
        "\n",
        "14. What goes in the try clause? What goes in the except clause?\n",
        "\n",
        "The try clause is essentially the ideal way for the program to run, this contains logic based on the input being what is expected and in the correct format. The except clause contains logic for what happens if the try clause cannot run without error and may also include logic for fixing the issue so that it could rerun and successfully finish the original try clause."
      ]
    }
  ]
}