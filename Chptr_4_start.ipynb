{
  "nbformat": 4,
  "nbformat_minor": 0,
  "metadata": {
    "colab": {
      "name": "Chptr_4_start.ipynb",
      "provenance": [],
      "authorship_tag": "ABX9TyNaZlji6UhcDQuNitXNSqOO",
      "include_colab_link": true
    },
    "kernelspec": {
      "name": "python3",
      "display_name": "Python 3"
    }
  },
  "cells": [
    {
      "cell_type": "markdown",
      "metadata": {
        "id": "view-in-github",
        "colab_type": "text"
      },
      "source": [
        "<a href=\"https://colab.research.google.com/github/ThomasMcDaniel91/ATBS_Tutorial/blob/main/Chptr_4_start.ipynb\" target=\"_parent\"><img src=\"https://colab.research.google.com/assets/colab-badge.svg\" alt=\"Open In Colab\"/></a>"
      ]
    },
    {
      "cell_type": "markdown",
      "metadata": {
        "id": "qmG1ORuuWNgz"
      },
      "source": [
        "#Chapter 4 Notes: Lists\n",
        "\n",
        "The 2nd value in a list slice is exclusive"
      ]
    },
    {
      "cell_type": "code",
      "metadata": {
        "id": "lqSbHKO7VO2U",
        "outputId": "e23ec8f3-1d30-4063-ec52-353faf012c5f",
        "colab": {
          "base_uri": "https://localhost:8080/"
        }
      },
      "source": [
        "# List slicing examples\n",
        "numbers = [1, 2, 3, 4, 5, 6, 7, 8, 9, 10]\n",
        "print(numbers[0:6])\n",
        "# a negative index reference will count it from the end of the list. -1 is the last\n",
        "# item in the list but is excluded because it is the 2nd value in the slice parameters.(6)\n",
        "print(numbers[5:-1])\n",
        "# you can use :: to reverse a list\n",
        "print(numbers[::-1])"
      ],
      "execution_count": 1,
      "outputs": [
        {
          "output_type": "stream",
          "text": [
            "[1, 2, 3, 4, 5, 6]\n",
            "[6, 7, 8, 9]\n",
            "[10, 9, 8, 7, 6, 5, 4, 3, 2, 1]\n"
          ],
          "name": "stdout"
        }
      ]
    },
    {
      "cell_type": "markdown",
      "metadata": {
        "id": "X74YAKj-aH5c"
      },
      "source": [
        "List concatenation and replication"
      ]
    },
    {
      "cell_type": "code",
      "metadata": {
        "id": "xOaypRxXaHZl",
        "outputId": "c3b0b409-7e1f-408f-8ed8-b43ca0d300eb",
        "colab": {
          "base_uri": "https://localhost:8080/"
        }
      },
      "source": [
        "# you can concatenate lists with the  + operator\n",
        "lst1 = [1, 2, 3]\n",
        "lst2 = [4, 5, 6]\n",
        "print(lst1 + lst2)"
      ],
      "execution_count": 2,
      "outputs": [
        {
          "output_type": "stream",
          "text": [
            "[1, 2, 3, 4, 5, 6]\n"
          ],
          "name": "stdout"
        }
      ]
    },
    {
      "cell_type": "code",
      "metadata": {
        "id": "JmZZ08zKaW7I",
        "outputId": "5915f4c0-9602-4017-b9f7-2b2e2b06d297",
        "colab": {
          "base_uri": "https://localhost:8080/"
        }
      },
      "source": [
        "# if you multiply a list by an integer, the list will then contain a pattern of the\n",
        "# original list repeating the amount of times specified by the integer.\n",
        "print(lst1 * 4)\n",
        "# you can change the value of a specific item in a list by referencing it's index\n",
        "print(lst1[0])\n",
        "# change the value of the first number in the list to 8\n",
        "lst1[0] = 8\n",
        "print(lst1[0])"
      ],
      "execution_count": 5,
      "outputs": [
        {
          "output_type": "stream",
          "text": [
            "[1, 2, 3, 1, 2, 3, 1, 2, 3, 1, 2, 3]\n",
            "1\n",
            "8\n"
          ],
          "name": "stdout"
        }
      ]
    },
    {
      "cell_type": "markdown",
      "metadata": {
        "id": "0HWfB7vUbV90"
      },
      "source": [
        "You can assign multiple variables to a list in a single line as opposed to one per line. This requires assigning an equal amount of variables as the amount of items in the list. In this case, cat has 3 items so to assign variables in a single line you have to assign 3 variables. Otherwise you get a ValueError: Too many values to unpack ( expected 2 )"
      ]
    },
    {
      "cell_type": "code",
      "metadata": {
        "id": "G04aTa_QbWDp"
      },
      "source": [
        "# assigning variables one per line\n",
        "cat = ['fat', 'black', 'loud']\n",
        "size = cat[0]\n",
        "color = cat[1]\n",
        "disposition = cat[2]\n",
        "\n",
        "# Same assignment but with multiple variables in a single line\n",
        "cat = ['fat', 'black', 'loud']\n",
        "size, color, disposition = cat"
      ],
      "execution_count": 8,
      "outputs": []
    },
    {
      "cell_type": "markdown",
      "metadata": {
        "id": "F2q-zU7Qf6IJ"
      },
      "source": [
        "Finding a value in a list with the index() method"
      ]
    },
    {
      "cell_type": "code",
      "metadata": {
        "id": "hCr8kEWXf-sx",
        "outputId": "e4355261-ff4c-4e51-8f19-aaa408d80dbf",
        "colab": {
          "base_uri": "https://localhost:8080/"
        }
      },
      "source": [
        "# You can check if a value is in a list by using the index method and the return\n",
        "# will be the index that the item is located at if it exists in the list.\n",
        "numbers = [x for x in range(11)]\n",
        "print(numbers.index(8))\n",
        "# If there are multiples of the same value, index() will return the index of the\n",
        "# first instance in the list only.\n",
        "spam = ['bob', 'roscoe', 'bob']\n",
        "spam.index('bob')"
      ],
      "execution_count": 11,
      "outputs": [
        {
          "output_type": "stream",
          "text": [
            "8\n"
          ],
          "name": "stdout"
        },
        {
          "output_type": "execute_result",
          "data": {
            "text/plain": [
              "0"
            ]
          },
          "metadata": {
            "tags": []
          },
          "execution_count": 11
        }
      ]
    },
    {
      "cell_type": "markdown",
      "metadata": {
        "id": "pxcgXBqXjIhG"
      },
      "source": [
        "Tuples, strings lists\n",
        "\n",
        "lists are mutable data types that allow you to change and remove/add values\n",
        "\n",
        "strings and tuples do not allow reassignment of values or the addition/removal of values, it will give TypeError that object does not support item assignment.\n",
        "\n",
        "Tuples are created with name = (values, seperated, by, comma)"
      ]
    },
    {
      "cell_type": "code",
      "metadata": {
        "id": "9oxq8PM7jtm7",
        "outputId": "fdd1fbc1-2fc8-40fb-fbac-dd8d41383287",
        "colab": {
          "base_uri": "https://localhost:8080/"
        }
      },
      "source": [
        "# If you are creating a tuple with only 1 value, add ',' after the value to let\n",
        "# python know you want a tuple\n",
        "egg = ('flour')\n",
        "print(type(egg))\n",
        "egg = ('flour',)\n",
        "type(egg)"
      ],
      "execution_count": 14,
      "outputs": [
        {
          "output_type": "stream",
          "text": [
            "<class 'str'>\n"
          ],
          "name": "stdout"
        },
        {
          "output_type": "execute_result",
          "data": {
            "text/plain": [
              "tuple"
            ]
          },
          "metadata": {
            "tags": []
          },
          "execution_count": 14
        }
      ]
    },
    {
      "cell_type": "markdown",
      "metadata": {
        "id": "nkv-M9BlDjli"
      },
      "source": [
        ""
      ]
    },
    {
      "cell_type": "code",
      "metadata": {
        "id": "aDsKw2lsDjrt",
        "outputId": "81001ce5-4636-4faf-e11e-d442d4ec04d1",
        "colab": {
          "base_uri": "https://localhost:8080/"
        }
      },
      "source": [
        "import copy\n",
        "nums = [x for x in range(11)]\n",
        "num_copy = copy.copy(nums)\n",
        "print(num_copy)\n",
        "nums = [1, 2, [3, 4, 5], [6, 7, 8, 9, 10,]]\n",
        "num_copy = copy.deepcopy(nums)\n",
        "print(num_copy)"
      ],
      "execution_count": 21,
      "outputs": [
        {
          "output_type": "stream",
          "text": [
            "[0, 1, 2, 3, 4, 5, 6, 7, 8, 9, 10]\n",
            "[1, 2, [3, 4, 5], [6, 7, 8, 9, 10]]\n"
          ],
          "name": "stdout"
        }
      ]
    },
    {
      "cell_type": "markdown",
      "metadata": {
        "id": "52XG4oBGGSBF"
      },
      "source": [
        "#Chapter 4 practice questions\n",
        "\n",
        "1. What is []\n",
        "\n",
        "that is a list with no values in it.\n",
        "\n",
        "2. How would you store 'hello' as the third value in a list stored in a variable named spam?\n",
        "\n",
        "You would use indexing to overwrite the value at that index.\n",
        "spam[2] = 'hello' since the list index starts at 0.\n",
        "\n",
        "\n",
        "For the following threee questions, let's say spam contains the list ['a', 'b', 'c', 'd']\n",
        "\n",
        "3. What does spam[int(int('3' * 2) // 11)] evaluate to?\n",
        "\n",
        "'3' * 2 is '33', changed back into an int and then floor divided by 11 would be 3. so it would be d in the list provided.\n",
        "\n",
        "4. What does spam[-1] evaluate to?\n",
        "\n",
        "would also equate to d because it is the last value in spam.\n",
        "\n",
        "5. What does spam[:2] equate to?\n",
        "\n",
        "this would return a and b. this is slicing and default starts at 0 and does not include the stop value.\n",
        "\n",
        "For the following 3 questions, let's say bacon contains the list [3.14, 'cat', '11, 'cat', True]\n",
        "\n",
        "6. What does bacon.index('cat') evaluate to?\n",
        "\n",
        "This will return with 1, as that is the location of the first instance of the value 'cat'\n",
        "\n",
        "7. What does bacon.append(99) make the list value in bacon look like?\n",
        "\n",
        "append adds the specified value to the end of the list. it would look like this \n",
        "\n",
        "[3.14, 'cat', '11, 'cat', True, 99]\n",
        "\n",
        "8. What does bacon.remove('cat') make the list value in bacon look like?\n",
        "\n",
        "Remove also removes the first instance of the value passed to remove, the new list would look like [3.14, '11, 'cat', True]\n",
        "\n",
        "9. What are the operators for list concatenation and list replication?\n",
        "list concatenation is done with the + operator and replication is done with the * symbol.\n",
        "\n",
        "10. What is the difference between the append() and insert() list methods?\n",
        "\n",
        "The append method only adds the value to the end of the list, the insert method can be used to place the value anywhere in the list.\n",
        "\n",
        "11. What are 2 ways to remove values from a list?\n",
        "\n",
        "You can remove them with the remove method or the del method.\n",
        "\n",
        "12. Name a few ways that list values are similar to string values.\n",
        "\n",
        "They both behave the same when used with operators + and *"
      ]
    },
    {
      "cell_type": "code",
      "metadata": {
        "id": "Dg3lxOkyGSHr",
        "outputId": "965d37f6-7f75-4593-a832-0ad64a2cecfb",
        "colab": {
          "base_uri": "https://localhost:8080/"
        }
      },
      "source": [
        "hello = 'hello'\n",
        "nums = [x for x in range(6)]\n",
        "print(hello * 3)\n",
        "print(nums * 3)\n",
        "\n",
        "# you can use index slicing with strings and lists as well\n",
        "print(nums[:3])\n",
        "print(hello[:3])"
      ],
      "execution_count": 24,
      "outputs": [
        {
          "output_type": "stream",
          "text": [
            "hellohellohello\n",
            "[0, 1, 2, 3, 4, 5, 0, 1, 2, 3, 4, 5, 0, 1, 2, 3, 4, 5]\n",
            "[0, 1, 2]\n",
            "hel\n"
          ],
          "name": "stdout"
        }
      ]
    },
    {
      "cell_type": "markdown",
      "metadata": {
        "id": "amwbq03xNBQ9"
      },
      "source": [
        "13. What is the difference between lists and tuples?\n",
        "\n",
        "Tuples are not mutable, they cannot be changed after being created whereas with lists you can change, remove, add values as desired.\n",
        "\n",
        "14. How do you type the tuple value that has just the integer value 42 in it?\n",
        "\n",
        "to make a tuple with a single value you have to put a , after the value. Otherwise it will only count it as the data type of that single value"
      ]
    },
    {
      "cell_type": "code",
      "metadata": {
        "id": "cWZVT0vlNBYH",
        "outputId": "f7fea50c-04f1-4119-da23-6ecf5a02daae",
        "colab": {
          "base_uri": "https://localhost:8080/"
        }
      },
      "source": [
        "toople = (42)\n",
        "print(type(toople))\n",
        "\n",
        "toople = (42,)\n",
        "print(type(toople))"
      ],
      "execution_count": 26,
      "outputs": [
        {
          "output_type": "stream",
          "text": [
            "<class 'int'>\n",
            "<class 'tuple'>\n"
          ],
          "name": "stdout"
        }
      ]
    },
    {
      "cell_type": "markdown",
      "metadata": {
        "id": "GcOEALoXQ900"
      },
      "source": [
        "15. How can you get the tuple form of a list value? How can you get the list form of a tuple value?\n",
        "\n",
        "python has built in methods list() and tuple() to turn the values into the specified data type.\n",
        "\n",
        "16. Variables that contain list values don't actually contain lists directly? What do they contain isntead?\n",
        "\n",
        "They contain references to the location of that value in memory.\n",
        "\n",
        "17. What is the difference between copy.copy() and copy.deepcopy()?\n",
        "\n",
        "A shallow copy constructs a new compound object and then (to the extent possible) inserts references into it to the objects found in the original. A deep copy constructs a new compound object and then, recursively, inserts copies into it of the objects found in the original."
      ]
    }
  ]
}